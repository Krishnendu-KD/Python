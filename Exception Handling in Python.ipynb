{
 "cells": [
  {
   "cell_type": "markdown",
   "metadata": {},
   "source": [
    "<h2 align=\"Center\" >Exception Handling</h2>\n"
   ]
  },
  {
   "cell_type": "markdown",
   "metadata": {},
   "source": [
    "<h4 align=\"right\">By : <a align=\"centre\" href=\"https://www.linkedin.com/in/krishnendu-dey-440/\"> Krishnendu Dey </a></h4>"
   ]
  },
  {
   "cell_type": "markdown",
   "metadata": {},
   "source": [
    "**What is Exception?**<br>\n",
    "An exception is an event, which occurs during the execution of a program that disrupts the normal flow of the program's instructions. In general, when a Python script encounters a situation that it cannot cope with, it raises an exception. An exception is a Python object that represents an error.<br>\n",
    "\n",
    "When a Python script raises an exception, it must either handle the exception immediately otherwise it terminates and quits."
   ]
  },
  {
   "cell_type": "markdown",
   "metadata": {},
   "source": [
    "**Handling an exception**<br>\n",
    "If you have some suspicious code that may raise an exception, you can defend your program by placing the suspicious code in a try: block. After the try: block, include an except: statement, followed by a block of code which handles the problem as elegantly as possible.<br>\n",
    "Exceptions are part of Runtime Error , not Compile time error."
   ]
  },
  {
   "cell_type": "markdown",
   "metadata": {},
   "source": [
    "#### Exceptions:"
   ]
  },
  {
   "cell_type": "markdown",
   "metadata": {},
   "source": [
    "***Example 1.0***<br>\n",
    "In this Example we see that when we divide any number with zero, we get <u>ZeroDivisionError</u> as exception"
   ]
  },
  {
   "cell_type": "code",
   "execution_count": 186,
   "metadata": {
    "scrolled": false
   },
   "outputs": [
    {
     "ename": "ZeroDivisionError",
     "evalue": "division by zero",
     "output_type": "error",
     "traceback": [
      "\u001b[1;31m---------------------------------------------------------------------------\u001b[0m",
      "\u001b[1;31mZeroDivisionError\u001b[0m                         Traceback (most recent call last)",
      "\u001b[1;32m<ipython-input-186-c6c186332615>\u001b[0m in \u001b[0;36m<module>\u001b[1;34m\u001b[0m\n\u001b[0;32m      1\u001b[0m \u001b[0ma\u001b[0m\u001b[1;33m=\u001b[0m\u001b[1;36m2\u001b[0m\u001b[1;33m\u001b[0m\u001b[1;33m\u001b[0m\u001b[0m\n\u001b[0;32m      2\u001b[0m \u001b[0mb\u001b[0m\u001b[1;33m=\u001b[0m\u001b[1;36m0\u001b[0m\u001b[1;33m\u001b[0m\u001b[1;33m\u001b[0m\u001b[0m\n\u001b[1;32m----> 3\u001b[1;33m \u001b[0mprint\u001b[0m\u001b[1;33m(\u001b[0m\u001b[0ma\u001b[0m\u001b[1;33m/\u001b[0m\u001b[0mb\u001b[0m\u001b[1;33m)\u001b[0m\u001b[1;33m\u001b[0m\u001b[1;33m\u001b[0m\u001b[0m\n\u001b[0m",
      "\u001b[1;31mZeroDivisionError\u001b[0m: division by zero"
     ]
    }
   ],
   "source": [
    "a=2\n",
    "b=0\n",
    "print(a/b)"
   ]
  },
  {
   "cell_type": "markdown",
   "metadata": {},
   "source": [
    "***Example 2.0***<br>\n",
    "Here we try to fetch a number which exceeds the length of the list so we get <u>IndexError</u> exception."
   ]
  },
  {
   "cell_type": "code",
   "execution_count": 187,
   "metadata": {},
   "outputs": [
    {
     "ename": "IndexError",
     "evalue": "list index out of range",
     "output_type": "error",
     "traceback": [
      "\u001b[1;31m---------------------------------------------------------------------------\u001b[0m",
      "\u001b[1;31mIndexError\u001b[0m                                Traceback (most recent call last)",
      "\u001b[1;32m<ipython-input-187-873baf657505>\u001b[0m in \u001b[0;36m<module>\u001b[1;34m\u001b[0m\n\u001b[0;32m      1\u001b[0m \u001b[0mlst\u001b[0m\u001b[1;33m=\u001b[0m\u001b[1;33m[\u001b[0m\u001b[1;36m1\u001b[0m\u001b[1;33m,\u001b[0m\u001b[1;36m2\u001b[0m\u001b[1;33m,\u001b[0m\u001b[1;36m3\u001b[0m\u001b[1;33m,\u001b[0m\u001b[1;36m4\u001b[0m\u001b[1;33m,\u001b[0m\u001b[1;36m5\u001b[0m\u001b[1;33m]\u001b[0m\u001b[1;33m\u001b[0m\u001b[1;33m\u001b[0m\u001b[0m\n\u001b[1;32m----> 2\u001b[1;33m \u001b[0mprint\u001b[0m\u001b[1;33m(\u001b[0m\u001b[0mlst\u001b[0m\u001b[1;33m[\u001b[0m\u001b[1;36m50\u001b[0m\u001b[1;33m]\u001b[0m\u001b[1;33m)\u001b[0m\u001b[1;33m\u001b[0m\u001b[1;33m\u001b[0m\u001b[0m\n\u001b[0m",
      "\u001b[1;31mIndexError\u001b[0m: list index out of range"
     ]
    }
   ],
   "source": [
    "lst=[1,2,3,4,5]\n",
    "print(lst[50])"
   ]
  },
  {
   "cell_type": "markdown",
   "metadata": {},
   "source": [
    "***Example 3.0***<br>\n",
    "Here we try to perform type conversion from string to int datatype so we get <u>ValueError</u> exception."
   ]
  },
  {
   "cell_type": "code",
   "execution_count": 188,
   "metadata": {},
   "outputs": [
    {
     "ename": "ValueError",
     "evalue": "invalid literal for int() with base 10: 'Python'",
     "output_type": "error",
     "traceback": [
      "\u001b[1;31m---------------------------------------------------------------------------\u001b[0m",
      "\u001b[1;31mValueError\u001b[0m                                Traceback (most recent call last)",
      "\u001b[1;32m<ipython-input-188-bbb14a7ff486>\u001b[0m in \u001b[0;36m<module>\u001b[1;34m\u001b[0m\n\u001b[0;32m      1\u001b[0m \u001b[0ms\u001b[0m\u001b[1;33m=\u001b[0m\u001b[1;34m\"Python\"\u001b[0m\u001b[1;33m\u001b[0m\u001b[1;33m\u001b[0m\u001b[0m\n\u001b[1;32m----> 2\u001b[1;33m \u001b[0mprint\u001b[0m\u001b[1;33m(\u001b[0m\u001b[0mint\u001b[0m\u001b[1;33m(\u001b[0m\u001b[0ms\u001b[0m\u001b[1;33m)\u001b[0m\u001b[1;33m)\u001b[0m\u001b[1;33m\u001b[0m\u001b[1;33m\u001b[0m\u001b[0m\n\u001b[0m",
      "\u001b[1;31mValueError\u001b[0m: invalid literal for int() with base 10: 'Python'"
     ]
    }
   ],
   "source": [
    "s=\"Python\"\n",
    "print(int(s))"
   ]
  },
  {
   "cell_type": "markdown",
   "metadata": {},
   "source": [
    "In the production Environment we can not let any such exception to appar and cause issues to our environment and cause disruption, So we need to address these exceptions from the begining and apply suitable measures to handle these exceptions. This is the very reason we need to learn Exception Handling.<br>\n",
    "All the three examples shown are inbuilt or default exceptions in Python language."
   ]
  },
  {
   "cell_type": "markdown",
   "metadata": {},
   "source": [
    "#### 1.  Single Exception Handling:"
   ]
  },
  {
   "cell_type": "markdown",
   "metadata": {},
   "source": [
    "***Example 1.0***<br>"
   ]
  },
  {
   "cell_type": "markdown",
   "metadata": {},
   "source": [
    "To handle any predefined Python exception or any user defined Python exception, we need to use the **try** and **except** blocks. Try block can not work alone, an associated except block is required. Try and Except are mandatory block. Else and Finally are optional block."
   ]
  },
  {
   "cell_type": "markdown",
   "metadata": {},
   "source": [
    "Here in this example, an exception would occur if the value of b becomes 0.<br>\n",
    "- If b!=0 then the code within the try block gets executed\n",
    "- If b=0 then exception talkes place and the code within the except block gets executed\n",
    "- If b=0 or b!=0 , the code written in the finally block gets executed anyway \n",
    "- If all the statements that are written inside the try block gets executed completely, then only the code written within else block gets executed"
   ]
  },
  {
   "cell_type": "code",
   "execution_count": 60,
   "metadata": {},
   "outputs": [
    {
     "name": "stdout",
     "output_type": "stream",
     "text": [
      "2.5\n",
      "Hey\n",
      "No Exception Found !\n",
      "Executed with/without Error !\n"
     ]
    }
   ],
   "source": [
    "a=5\n",
    "b=2\n",
    "try:                                                # critical statement(Error Prone)\n",
    "    print(a/b)\n",
    "    print(\"Hey\")\n",
    "except Exception as e:                              # catch statement(to handle exception)\n",
    "    print(\"Math Error :\", e)\n",
    "    print(\"Bye\")\n",
    "else:                                               # Gets Executed only when NO Exception occurs in try block  \n",
    "    print(\"No Exception Found !\")\n",
    "finally:                                            # Exception or no exception finally clause gets executed \n",
    "    print(\"Executed with/without Error !\")\n"
   ]
  },
  {
   "cell_type": "code",
   "execution_count": 61,
   "metadata": {},
   "outputs": [
    {
     "name": "stdout",
     "output_type": "stream",
     "text": [
      "Math Error : division by zero\n",
      "Bye\n",
      "Executed with/without Error !\n"
     ]
    }
   ],
   "source": [
    "a=5\n",
    "b=0\n",
    "try:                                                # critical statement(Error Prone)\n",
    "    print(a/b)\n",
    "    print(\"Hey\")\n",
    "except Exception as e:                              # catch statement(to handle exception)\n",
    "    print(\"Math Error :\", e)\n",
    "    print(\"Bye\")\n",
    "else:                                               # Gets Executed only when NO Exception occurs in try block  \n",
    "    print(\"No Exception Found !\")\n",
    "finally:                                            # Exception or no exception finally clause gets executed \n",
    "    print(\"Executed with/without Error !\")\n"
   ]
  },
  {
   "cell_type": "markdown",
   "metadata": {},
   "source": [
    "***NOTE:***<br> Use **help(Exception)** Statement to know more about the Exception. Exception is a parent class having IndexError, ZeroDivisionError,ArithmeticError etc as its child class."
   ]
  },
  {
   "cell_type": "markdown",
   "metadata": {},
   "source": [
    "***Example 2.0 :***<br>\n",
    "Using the try-except exception handling concept inside a function definition"
   ]
  },
  {
   "cell_type": "code",
   "execution_count": 62,
   "metadata": {},
   "outputs": [
    {
     "name": "stdout",
     "output_type": "stream",
     "text": [
      "10\n",
      "Index was within the range of the List!\n"
     ]
    }
   ],
   "source": [
    "def test(lst,index):\n",
    "    try:\n",
    "        print(lst[index])\n",
    "        print(\"Index was within the range of the List!\")\n",
    "    except Exception as e :\n",
    "        print(\"Error!\",e)\n",
    "        print(\"Index was outside the range of the List!\")\n",
    "\n",
    "test([10,20,30,40,50],0)"
   ]
  },
  {
   "cell_type": "code",
   "execution_count": 63,
   "metadata": {},
   "outputs": [
    {
     "name": "stdout",
     "output_type": "stream",
     "text": [
      "Error! list index out of range\n",
      "Index was outside the range of the List!\n"
     ]
    }
   ],
   "source": [
    "def test(lst,index):\n",
    "    try:\n",
    "        print(lst[index])\n",
    "        print(\"Index was within the range of the List!\")\n",
    "    except Exception as e :\n",
    "        print(\"Error!\",e)\n",
    "        print(\"Index was outside the range of the List!\")\n",
    "\n",
    "test([10,20,30,40,50],50)"
   ]
  },
  {
   "cell_type": "markdown",
   "metadata": {},
   "source": [
    "***Example 3.0 :***<br>\n",
    "**Practical scenario**: Think about a situation where you need to log into a system using your 4 digit password.Write a program which will ask the user to log on again if he has entered it wrong untill he gets it right.The user has 5 attempts to write his correct credentials otherwise his account gets locked."
   ]
  },
  {
   "cell_type": "code",
   "execution_count": 56,
   "metadata": {},
   "outputs": [
    {
     "name": "stdout",
     "output_type": "stream",
     "text": [
      "Enter your four digit pin : 1\n",
      "The pin you entered is incorrect. Please try again.\n",
      "You have 4 attempts left\n",
      "Enter your four digit pin : 12\n",
      "The pin you entered is incorrect. Please try again.\n",
      "You have 3 attempts left\n",
      "Enter your four digit pin : \"1234\"\n",
      "Error! invalid literal for int() with base 10: '\"1234\"'\n",
      "The pin you entered is incorrect. Please try again.\n",
      "You have 2 attempts left\n",
      "Enter your four digit pin : lkiu\n",
      "Error! invalid literal for int() with base 10: 'lkiu'\n",
      "The pin you entered is incorrect. Please try again.\n",
      "You have 1 attempts left\n",
      "Enter your four digit pin : 1234\n",
      "Successful! You have logged in :-D\n"
     ]
    }
   ],
   "source": [
    "def test():\n",
    "    i=1\n",
    "    while i<=5:\n",
    "        try:\n",
    "            val=int(input(\"Enter your four digit pin : \"))\n",
    "        except Exception as e:\n",
    "            if i==5:\n",
    "                print(\"You have exhausted all attempts. Your account is locked!\")\n",
    "            else:\n",
    "                print(\"Error!\",e)\n",
    "                print(\"The pin you entered is incorrect. Please try again.\")\n",
    "                print(\"You have {} attempts left\".format(5-i))\n",
    "                i+=1\n",
    "                continue\n",
    "        else:\n",
    "            if len(str(val))==4:\n",
    "                print(\"Successful! You have logged in :-D\")\n",
    "            else:\n",
    "                if i==5:\n",
    "                    print(\"You have exhausted all attempts. Your account is locked!\")\n",
    "                else:\n",
    "                    print(\"The pin you entered is incorrect. Please try again.\")\n",
    "                    print(\"You have {} attempts left\".format(5-i))\n",
    "                i+=1\n",
    "                continue\n",
    "            break\n",
    "            \n",
    "test()"
   ]
  },
  {
   "cell_type": "markdown",
   "metadata": {},
   "source": [
    "**2. Multiple Exception Handling:**"
   ]
  },
  {
   "cell_type": "markdown",
   "metadata": {},
   "source": [
    "***Example 1.0***<br>\n",
    "If in our code we need to handle multiple exceptions then to hanlde those exceptions \"except Exception\" statement would not work as Exception is a Super class. So we need to handle different expections with exception name explicitly."
   ]
  },
  {
   "cell_type": "code",
   "execution_count": 118,
   "metadata": {},
   "outputs": [],
   "source": [
    "import math as m \n",
    "def multipleExceptions(b,index,key,num,x):\n",
    "    a=5\n",
    "    List=[2,5,6,8,7,9]\n",
    "    Dict={'a':5,'b':6}\n",
    "    try:\n",
    "        print(a/b)\n",
    "        print(List[index])\n",
    "        print(Dict[key])\n",
    "        print(int(num))\n",
    "        print(m.sqrt(x))\n",
    "    except ZeroDivisionError as e1:\n",
    "        print(\"Error1 :\",e1)\n",
    "    except IndexError as e2:\n",
    "        print(\"Error2 :\",e2)\n",
    "    except KeyError as e3:\n",
    "        print(\"Error3 :\",e3)\n",
    "    except ValueError as e4:\n",
    "        print(\"Error4 :\",e4)\n",
    "    except Exception as e5:             # It's a super class, able to handle all the exception \n",
    "        print(\"Error5 :\",e5)\n",
    "\n",
    "    else:\n",
    "        print(\"All conditions in try block are satisfied!\")\n",
    "        "
   ]
  },
  {
   "cell_type": "code",
   "execution_count": 119,
   "metadata": {},
   "outputs": [
    {
     "name": "stdout",
     "output_type": "stream",
     "text": [
      "Error1 : division by zero\n"
     ]
    }
   ],
   "source": [
    "#Testing exception1\n",
    "multipleExceptions(b=0,index=1,key=1,num=1,x=1)"
   ]
  },
  {
   "cell_type": "code",
   "execution_count": 120,
   "metadata": {},
   "outputs": [
    {
     "name": "stdout",
     "output_type": "stream",
     "text": [
      "5.0\n",
      "Error2 : list index out of range\n"
     ]
    }
   ],
   "source": [
    "#Testing exception2\n",
    "multipleExceptions(b=1,index=100,key=1,num=1,x=1)"
   ]
  },
  {
   "cell_type": "code",
   "execution_count": 121,
   "metadata": {},
   "outputs": [
    {
     "name": "stdout",
     "output_type": "stream",
     "text": [
      "5.0\n",
      "5\n",
      "Error3 : 100\n"
     ]
    }
   ],
   "source": [
    "#Testing exception3\n",
    "multipleExceptions(b=1,index=1,key=100,num=1,x=1)"
   ]
  },
  {
   "cell_type": "code",
   "execution_count": 122,
   "metadata": {},
   "outputs": [
    {
     "name": "stdout",
     "output_type": "stream",
     "text": [
      "5.0\n",
      "5\n",
      "5\n",
      "Error4 : invalid literal for int() with base 10: 'string'\n"
     ]
    }
   ],
   "source": [
    "#Testing exception4\n",
    "multipleExceptions(b=1,index=1,key='a',num='string',x=1)"
   ]
  },
  {
   "cell_type": "code",
   "execution_count": 123,
   "metadata": {},
   "outputs": [
    {
     "name": "stdout",
     "output_type": "stream",
     "text": [
      "5.0\n",
      "5\n",
      "5\n",
      "1\n",
      "Error5 : can't convert complex to float\n"
     ]
    }
   ],
   "source": [
    "#Testing exception5 : \n",
    "# NOTE : When any exception apart from the defined exception occur then this is handled by Super class Exception\n",
    "multipleExceptions(b=1,index=1,key='a',num=1,x=1+4j)"
   ]
  },
  {
   "cell_type": "code",
   "execution_count": 125,
   "metadata": {},
   "outputs": [
    {
     "name": "stdout",
     "output_type": "stream",
     "text": [
      "5.0\n",
      "5\n",
      "5\n",
      "1\n",
      "1.0\n",
      "All conditions in try block are satisfied!\n"
     ]
    }
   ],
   "source": [
    "#With No exception \n",
    "multipleExceptions(b=1,index=1,key='a',num=1,x=1)"
   ]
  },
  {
   "cell_type": "markdown",
   "metadata": {},
   "source": [
    "**3. User Defined Exception:**<br>\n",
    "<u> raise</u> keyword is used to raise Exceptions manually."
   ]
  },
  {
   "cell_type": "markdown",
   "metadata": {},
   "source": [
    "***Example 1.0***<br>\n",
    "Manually Raise an Exception when everytime a/b=2.5"
   ]
  },
  {
   "cell_type": "code",
   "execution_count": 135,
   "metadata": {},
   "outputs": [],
   "source": [
    "def manualException(a,b):\n",
    "    try:\n",
    "        result=a/b\n",
    "        if result!=2.5:\n",
    "            print(result)\n",
    "        else:\n",
    "            print(result)\n",
    "            raise Exception\n",
    "    except Exception as e :\n",
    "        print(\"Error raised manually as a/b=5\")\n",
    "    else:\n",
    "        print(\"No Error! a/b is not 2.5\")\n"
   ]
  },
  {
   "cell_type": "code",
   "execution_count": 136,
   "metadata": {},
   "outputs": [
    {
     "name": "stdout",
     "output_type": "stream",
     "text": [
      "5.0\n",
      "No Error! a/b is not 2.5\n"
     ]
    }
   ],
   "source": [
    "manualException(5,1)"
   ]
  },
  {
   "cell_type": "code",
   "execution_count": 137,
   "metadata": {
    "scrolled": true
   },
   "outputs": [
    {
     "name": "stdout",
     "output_type": "stream",
     "text": [
      "2.5\n",
      "Error raised manually as a/b=5\n"
     ]
    }
   ],
   "source": [
    "manualException(5,2)"
   ]
  },
  {
   "cell_type": "markdown",
   "metadata": {},
   "source": [
    "***Example 2.0***<br>\n",
    "Working with both custome exception and predefined exception in Python."
   ]
  },
  {
   "cell_type": "code",
   "execution_count": 181,
   "metadata": {},
   "outputs": [],
   "source": [
    "def manulaException2(index):\n",
    "    lst=[10,20,30,40,50]\n",
    "    try:\n",
    "        if (index>len(lst)-1):\n",
    "            raise IndexError(\"Index out of Range Exception!\")     # IndexError : Pre defined Error\n",
    "        elif lst[index]==20:\n",
    "            raise Exception(\"Manually Raised Exception!\")         # User Defined Exception\n",
    "    except Exception as userDefinedException:                      \n",
    "        print(userDefinedException)\n",
    "    else:\n",
    "        print(lst[index])\n",
    "        print(\"No Exception found!\")\n"
   ]
  },
  {
   "cell_type": "code",
   "execution_count": 182,
   "metadata": {},
   "outputs": [
    {
     "name": "stdout",
     "output_type": "stream",
     "text": [
      "Index out of Range Exception!\n"
     ]
    }
   ],
   "source": [
    "manulaException2(index=85)"
   ]
  },
  {
   "cell_type": "code",
   "execution_count": 183,
   "metadata": {},
   "outputs": [
    {
     "name": "stdout",
     "output_type": "stream",
     "text": [
      "Manually Raised Exception!\n"
     ]
    }
   ],
   "source": [
    "manulaException2(index=1)"
   ]
  },
  {
   "cell_type": "code",
   "execution_count": 184,
   "metadata": {},
   "outputs": [
    {
     "name": "stdout",
     "output_type": "stream",
     "text": [
      "40\n",
      "No Exception found!\n"
     ]
    }
   ],
   "source": [
    "manulaException2(index=3)"
   ]
  },
  {
   "cell_type": "markdown",
   "metadata": {},
   "source": [
    "***Example 3.0***<br>\n",
    "**Scenario:** Raise Valueerror exception if the a+b>400 and print a msg \"Their sum is out of range\"\n",
    "Raise Valueerror exception if a>150 or b<100 and print msg \"Input integers value out of range\"\n",
    "Otherwise print msg \"All in Range\""
   ]
  },
  {
   "cell_type": "code",
   "execution_count": 149,
   "metadata": {},
   "outputs": [],
   "source": [
    "def manualException3():\n",
    "    a=int(input())\n",
    "    b=int(input())\n",
    "    if ((a>150) or (b<100)):\n",
    "        raise ValueError(\"Input Integers out of range\")\n",
    "    \n",
    "    elif (a+b)>400:\n",
    "        raise ValueError(\"Their sum is out of range\")\n",
    "    \n",
    "    else:\n",
    "        print(\"{} & {} both in range\".format(a,b))\n"
   ]
  },
  {
   "cell_type": "code",
   "execution_count": 151,
   "metadata": {},
   "outputs": [
    {
     "name": "stdout",
     "output_type": "stream",
     "text": [
      "546\n",
      "2325\n",
      "Input Integers out of range\n"
     ]
    }
   ],
   "source": [
    "try:\n",
    "    manualException3()\n",
    "except ValueError as exp:\n",
    "    print(exp)\n",
    "    "
   ]
  },
  {
   "cell_type": "code",
   "execution_count": 152,
   "metadata": {},
   "outputs": [
    {
     "name": "stdout",
     "output_type": "stream",
     "text": [
      "50\n",
      "101\n",
      "50 & 101 both in range\n"
     ]
    }
   ],
   "source": [
    "try:\n",
    "    manualException3()\n",
    "except ValueError as exp:\n",
    "    print(exp)\n",
    "    "
   ]
  },
  {
   "cell_type": "markdown",
   "metadata": {},
   "source": [
    "***Reference Links :***<br> \n",
    "- https://docs.python.org/3/library/exceptions.html\n",
    "- https://www.tutorialspoint.com/python/python_exceptions.htm\n",
    "- https://www.geeksforgeeks.org/built-exceptions-python/\n"
   ]
  }
 ],
 "metadata": {
  "kernelspec": {
   "display_name": "Python 3",
   "language": "python",
   "name": "python3"
  },
  "language_info": {
   "codemirror_mode": {
    "name": "ipython",
    "version": 3
   },
   "file_extension": ".py",
   "mimetype": "text/x-python",
   "name": "python",
   "nbconvert_exporter": "python",
   "pygments_lexer": "ipython3",
   "version": "3.8.5"
  }
 },
 "nbformat": 4,
 "nbformat_minor": 4
}
